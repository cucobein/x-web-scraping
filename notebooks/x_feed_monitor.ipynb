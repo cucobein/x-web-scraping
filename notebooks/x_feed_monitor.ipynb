{
 "cells": [
  {
   "cell_type": "markdown",
   "id": "826d2b60",
   "metadata": {},
   "source": [
    "# X (Twitter) Feed Monitor POC\n",
    "This notebook is a proof of concept to monitor new posts from multiple X/Twitter accounts using Python and Playwright. It avoids the need for Twitter's API by scraping the public timeline using a headless browser.\n",
    "\n",
    "**Step 1: Install Dependencies and Set Up**\n"
   ]
  },
  {
   "cell_type": "code",
   "execution_count": 1,
   "id": "b00fe8b0",
   "metadata": {},
   "outputs": [
    {
     "name": "stdout",
     "output_type": "stream",
     "text": [
      "Requirement already satisfied: playwright in /Users/cucobein/Developer/Python Virtual Envs/jupyter_env/lib/python3.12/site-packages (1.53.0)\n",
      "Requirement already satisfied: nest_asyncio in /Users/cucobein/Developer/Python Virtual Envs/jupyter_env/lib/python3.12/site-packages (1.6.0)\n",
      "Requirement already satisfied: IPython in /Users/cucobein/Developer/Python Virtual Envs/jupyter_env/lib/python3.12/site-packages (8.25.0)\n",
      "Requirement already satisfied: pyee<14,>=13 in /Users/cucobein/Developer/Python Virtual Envs/jupyter_env/lib/python3.12/site-packages (from playwright) (13.0.0)\n",
      "Requirement already satisfied: greenlet<4.0.0,>=3.1.1 in /Users/cucobein/Developer/Python Virtual Envs/jupyter_env/lib/python3.12/site-packages (from playwright) (3.2.3)\n",
      "Requirement already satisfied: decorator in /Users/cucobein/Developer/Python Virtual Envs/jupyter_env/lib/python3.12/site-packages (from IPython) (5.1.1)\n",
      "Requirement already satisfied: jedi>=0.16 in /Users/cucobein/Developer/Python Virtual Envs/jupyter_env/lib/python3.12/site-packages (from IPython) (0.19.1)\n",
      "Requirement already satisfied: matplotlib-inline in /Users/cucobein/Developer/Python Virtual Envs/jupyter_env/lib/python3.12/site-packages (from IPython) (0.1.7)\n",
      "Requirement already satisfied: prompt-toolkit<3.1.0,>=3.0.41 in /Users/cucobein/Developer/Python Virtual Envs/jupyter_env/lib/python3.12/site-packages (from IPython) (3.0.46)\n",
      "Requirement already satisfied: pygments>=2.4.0 in /Users/cucobein/Developer/Python Virtual Envs/jupyter_env/lib/python3.12/site-packages (from IPython) (2.18.0)\n",
      "Requirement already satisfied: stack-data in /Users/cucobein/Developer/Python Virtual Envs/jupyter_env/lib/python3.12/site-packages (from IPython) (0.6.3)\n",
      "Requirement already satisfied: traitlets>=5.13.0 in /Users/cucobein/Developer/Python Virtual Envs/jupyter_env/lib/python3.12/site-packages (from IPython) (5.14.3)\n",
      "Requirement already satisfied: pexpect>4.3 in /Users/cucobein/Developer/Python Virtual Envs/jupyter_env/lib/python3.12/site-packages (from IPython) (4.9.0)\n",
      "Requirement already satisfied: parso<0.9.0,>=0.8.3 in /Users/cucobein/Developer/Python Virtual Envs/jupyter_env/lib/python3.12/site-packages (from jedi>=0.16->IPython) (0.8.4)\n",
      "Requirement already satisfied: ptyprocess>=0.5 in /Users/cucobein/Developer/Python Virtual Envs/jupyter_env/lib/python3.12/site-packages (from pexpect>4.3->IPython) (0.7.0)\n",
      "Requirement already satisfied: wcwidth in /Users/cucobein/Developer/Python Virtual Envs/jupyter_env/lib/python3.12/site-packages (from prompt-toolkit<3.1.0,>=3.0.41->IPython) (0.2.13)\n",
      "Requirement already satisfied: typing-extensions in /Users/cucobein/Developer/Python Virtual Envs/jupyter_env/lib/python3.12/site-packages (from pyee<14,>=13->playwright) (4.12.2)\n",
      "Requirement already satisfied: executing>=1.2.0 in /Users/cucobein/Developer/Python Virtual Envs/jupyter_env/lib/python3.12/site-packages (from stack-data->IPython) (2.0.1)\n",
      "Requirement already satisfied: asttokens>=2.1.0 in /Users/cucobein/Developer/Python Virtual Envs/jupyter_env/lib/python3.12/site-packages (from stack-data->IPython) (2.4.1)\n",
      "Requirement already satisfied: pure-eval in /Users/cucobein/Developer/Python Virtual Envs/jupyter_env/lib/python3.12/site-packages (from stack-data->IPython) (0.2.2)\n",
      "Requirement already satisfied: six>=1.12.0 in /Users/cucobein/Developer/Python Virtual Envs/jupyter_env/lib/python3.12/site-packages (from asttokens>=2.1.0->stack-data->IPython) (1.16.0)\n",
      "\n",
      "\u001b[1m[\u001b[0m\u001b[34;49mnotice\u001b[0m\u001b[1;39;49m]\u001b[0m\u001b[39;49m A new release of pip is available: \u001b[0m\u001b[31;49m24.0\u001b[0m\u001b[39;49m -> \u001b[0m\u001b[32;49m25.1.1\u001b[0m\n",
      "\u001b[1m[\u001b[0m\u001b[34;49mnotice\u001b[0m\u001b[1;39;49m]\u001b[0m\u001b[39;49m To update, run: \u001b[0m\u001b[32;49mpip install --upgrade pip\u001b[0m\n"
     ]
    }
   ],
   "source": [
    "# Install dependencies (only run once)\n",
    "!pip install playwright nest_asyncio IPython\n",
    "!playwright install"
   ]
  },
  {
   "cell_type": "markdown",
   "id": "853f0e73",
   "metadata": {},
   "source": [
    "## Step 2: Load an X Profile and Get the Latest Tweet\n",
    "We now use Playwright to open a headless browser, go to an X profile, and extract the first tweet."
   ]
  },
  {
   "cell_type": "code",
   "execution_count": null,
   "id": "6e396cd4",
   "metadata": {},
   "outputs": [
    {
     "name": "stdout",
     "output_type": "stream",
     "text": [
      "Visiting profile: https://x.com/nasa\n"
     ]
    },
    {
     "data": {
      "text/plain": [
       "\"NASA\\n@NASA\\n·\\n2h\\nWe won an Emmy!\\n\\nOur live broadcast coverage of the 2024 total solar eclipse received this year's Emmy Award for Outstanding Live News Special. Get the details: https://go.nasa.gov/4k9jIpa\\nThe media could not be played.\\nReload\\n101\\n206\\n1.4K\\n185K\""
      ]
     },
     "execution_count": 7,
     "metadata": {},
     "output_type": "execute_result"
    }
   ],
   "source": [
    "import nest_asyncio\n",
    "from playwright.async_api import async_playwright\n",
    "\n",
    "nest_asyncio.apply()  # allows async code to run in jupyter notebooks\n",
    "\n",
    "async def get_first_tweet(username=\"nasa\"):\n",
    "    async with async_playwright() as p:\n",
    "        browser = await p.chromium.launch(headless=False)  # For debug, try headless=True after it's stable\n",
    "        context = await browser.new_context(\n",
    "            user_agent=\"Mozilla/5.0 (Macintosh; Intel Mac OS X 10_15_7) AppleWebKit/537.36 (KHTML, like Gecko) Chrome/119.0.0.0 Safari/537.36\",\n",
    "            viewport={\"width\": 1280, \"height\": 800}\n",
    "        )\n",
    "        page = await context.new_page()\n",
    "\n",
    "        print(f\"Visiting profile: https://x.com/{username}\")\n",
    "        await page.goto(f\"https://x.com/{username}\", timeout=60000)\n",
    "\n",
    "        # Optional: Wait until network activity is idle\n",
    "        await page.wait_for_load_state(\"networkidle\")\n",
    "\n",
    "        # Find first tweet using locator instead of selector\n",
    "        first_tweet = page.locator(\"article\").first\n",
    "\n",
    "        # Wait until it becomes visible\n",
    "        await first_tweet.wait_for(timeout=20000)\n",
    "        tweet_text = await first_tweet.inner_text()\n",
    "\n",
    "        await browser.close()\n",
    "        return tweet_text\n",
    "\n",
    "# Run it:\n",
    "# await get_first_tweet(\"nasa\")\n",
    "\n"
   ]
  },
  {
   "cell_type": "markdown",
   "id": "7b5d99c0",
   "metadata": {},
   "source": [
    "## Step 3: Monitor One User for New Tweets\n",
    "\n",
    "- Repeats the check every 30 seconds\n",
    "- Compares the newest tweet with the last one\n",
    "- Triggers a sound or printed alert if there's a change"
   ]
  },
  {
   "cell_type": "code",
   "execution_count": 4,
   "id": "a15f3734",
   "metadata": {},
   "outputs": [],
   "source": [
    "import time\n",
    "from IPython.display import Audio, display\n",
    "\n",
    "async def monitor_user(username=\"nasa\", check_interval=30):\n",
    "    last_tweet = None  # stores the previous tweet content\n",
    "\n",
    "    while True:\n",
    "        print(f\"Checking @{username}...\")\n",
    "        try:\n",
    "            tweet = await get_first_tweet(username)  # reuse the function from earlier\n",
    "            if last_tweet is None:\n",
    "                print(\"First check. Storing initial tweet.\")\n",
    "                last_tweet = tweet\n",
    "            elif tweet != last_tweet:\n",
    "                print(f\"🔔 New tweet from @{username}!\\n\")\n",
    "                display(Audio(data=b'\\x00' * 1000, autoplay=True))  # placeholder sound\n",
    "                last_tweet = tweet\n",
    "            else:\n",
    "                print(\"No new tweet.\\n\")\n",
    "        except Exception as e:\n",
    "            print(f\"⚠️ Error checking @{username}: {e}\")\n",
    "        \n",
    "        time.sleep(check_interval)  # wait N seconds before checking again\n"
   ]
  },
  {
   "cell_type": "code",
   "execution_count": 5,
   "id": "8c42bf15",
   "metadata": {},
   "outputs": [],
   "source": [
    "# Run it:\n",
    "# await monitor_user(\"nasa\", check_interval=30)"
   ]
  },
  {
   "cell_type": "markdown",
   "id": "4f80c29e",
   "metadata": {},
   "source": [
    "## Step 4: Monitor Random Subset of X Profiles\n",
    "We'll use a predefined list of official CDMX accounts and randomly pick 5 on each cycle. This keeps the browser usage low and avoids detection while still getting broad coverage."
   ]
  },
  {
   "cell_type": "code",
   "execution_count": 14,
   "id": "623eef16",
   "metadata": {},
   "outputs": [],
   "source": [
    "import random\n",
    "\n",
    "# Extracted handles (no @, no query params)\n",
    "user_pool = [\n",
    "    \"CDMXConsejeria\", \"ContraloriaCDMX\", \"FiscaliaCDMX\", \"ClaraBrugadaM\", \"Finanzas_CDMX\",\n",
    "    \"SEBIEN_cdmx\", \"CulturaCiudadMx\", \"SedecoCDMX\", \"Vivienda_CDMX\", \"SECTEI_CDMX\",\n",
    "    \"sgirpc_cdmx\", \"GobCDMX\", \"semujerescdmx\", \"SEDEMA_CDMX\", \"LaSEMOVI\",\n",
    "    \"SOBSECDMX\", \"metropoliscdmx\", \"sepicdmx\", \"SSaludCdMx\", \"SSC_CDMX\",\n",
    "    \"TrabajoCDMX\", \"turismocdmx\", \"C5_CDMX\", \"MetrobusCDMX\", \"Bomberos_CDMX\",\n",
    "    \"SEGIAGUA\", \"UCS_GCDMX\", \"LaAgenciaCDMX\", \"DGRCivilCDMX\", \"DiversidadCDMX\",\n",
    "    \"locatel_mx\", \"SCPPyBG\", \"SAPCI_CDMX\", \"icat_cdmx\", \"CedaGeneral\",\n",
    "    \"PDI_FGJCDMX\", \"CFilmaCDMX\", \"MetroCDMX\", \"STECDMX\", \"micablebuscdmx\",\n",
    "    \"RTP_CiudadDeMex\", \"InjuveCDMX\"\n",
    "]\n"
   ]
  },
  {
   "cell_type": "markdown",
   "id": "d3168de4",
   "metadata": {},
   "source": [
    "## Step 5: Monitor 5 Random Users and Alert on New Tweets\n",
    "We now randomly pick 5 users from the pool each time, check their most recent tweets, and alert if any have changed since last seen."
   ]
  },
  {
   "cell_type": "code",
   "execution_count": null,
   "id": "48513caa",
   "metadata": {},
   "outputs": [],
   "source": [
    "import time\n",
    "from IPython.display import Audio, display\n",
    "\n",
    "# Dictionary to keep track of last tweets per user\n",
    "last_tweets = {}\n",
    "\n",
    "async def monitor_random_users(user_pool, check_interval=60, sample_size=5):\n",
    "    async with async_playwright() as p:\n",
    "        browser = await p.chromium.launch(headless=True)\n",
    "        context = await browser.new_context(\n",
    "            user_agent=\"Mozilla/5.0 (Macintosh; Intel Mac OS X 10_15_7) AppleWebKit/537.36 (KHTML, like Gecko) Chrome/119.0.0.0 Safari/537.36\",\n",
    "            viewport={\"width\": 1280, \"height\": 800}\n",
    "        )\n",
    "\n",
    "        while True:\n",
    "            sample_users = random.sample(user_pool, sample_size)\n",
    "            print(f\"\\n🔄 Checking {sample_size} random accounts...\")\n",
    "\n",
    "            for username in sample_users:\n",
    "                page = await context.new_page()\n",
    "                try:\n",
    "                    print(f\"Visiting @{username}...\")\n",
    "                    await page.goto(f\"https://x.com/{username}\", timeout=60000)\n",
    "                    await page.wait_for_load_state(\"networkidle\")\n",
    "                    tweet_locator = page.locator(\"article\").first\n",
    "                    await tweet_locator.wait_for(timeout=15000)\n",
    "                    tweet_text = await tweet_locator.inner_text()\n",
    "\n",
    "                    if username in last_tweets:\n",
    "                        if tweet_text != last_tweets[username]:\n",
    "                            print(f\"🔔 New tweet from @{username}!\")\n",
    "                            display(Audio(data=b'\\x00' * 1000, autoplay=True))  # Silent beep\n",
    "                            last_tweets[username] = tweet_text\n",
    "                        else:\n",
    "                            print(f\"No new tweet for @{username}.\")\n",
    "                    else:\n",
    "                        print(f\"First time seeing @{username}, storing tweet.\")\n",
    "                        last_tweets[username] = tweet_text\n",
    "\n",
    "                except Exception as e:\n",
    "                    print(f\"⚠️ Error checking @{username}: {e}\")\n",
    "                finally:\n",
    "                    await page.close()\n",
    "\n",
    "            print(f\"✅ Cycle complete. Waiting {check_interval} seconds...\\n\")\n",
    "            time.sleep(check_interval)\n"
   ]
  },
  {
   "cell_type": "code",
   "execution_count": 16,
   "id": "718662d8",
   "metadata": {},
   "outputs": [
    {
     "name": "stdout",
     "output_type": "stream",
     "text": [
      "\n",
      "🔄 Checking 5 random accounts...\n",
      "Visiting @icat_cdmx...\n",
      "First time seeing @icat_cdmx, storing tweet.\n",
      "Visiting @DiversidadCDMX...\n",
      "First time seeing @DiversidadCDMX, storing tweet.\n",
      "Visiting @SCPPyBG...\n",
      "First time seeing @SCPPyBG, storing tweet.\n",
      "Visiting @CDMXConsejeria...\n",
      "First time seeing @CDMXConsejeria, storing tweet.\n",
      "Visiting @ClaraBrugadaM...\n",
      "First time seeing @ClaraBrugadaM, storing tweet.\n",
      "✅ Cycle complete. Waiting 15 seconds...\n",
      "\n"
     ]
    },
    {
     "ename": "NameError",
     "evalue": "name 'time' is not defined",
     "output_type": "error",
     "traceback": [
      "\u001b[0;31m---------------------------------------------------------------------------\u001b[0m",
      "\u001b[0;31mNameError\u001b[0m                                 Traceback (most recent call last)",
      "Cell \u001b[0;32mIn[16], line 2\u001b[0m\n\u001b[1;32m      1\u001b[0m \u001b[38;5;66;03m# Run it:\u001b[39;00m\n\u001b[0;32m----> 2\u001b[0m \u001b[38;5;28;01mawait\u001b[39;00m monitor_random_users(user_pool, check_interval\u001b[38;5;241m=\u001b[39m\u001b[38;5;241m15\u001b[39m, sample_size\u001b[38;5;241m=\u001b[39m\u001b[38;5;241m5\u001b[39m)\n",
      "Cell \u001b[0;32mIn[15], line 45\u001b[0m, in \u001b[0;36mmonitor_random_users\u001b[0;34m(user_pool, check_interval, sample_size)\u001b[0m\n\u001b[1;32m     42\u001b[0m         \u001b[38;5;28;01mawait\u001b[39;00m page\u001b[38;5;241m.\u001b[39mclose()\n\u001b[1;32m     44\u001b[0m \u001b[38;5;28mprint\u001b[39m(\u001b[38;5;124mf\u001b[39m\u001b[38;5;124m\"\u001b[39m\u001b[38;5;124m✅ Cycle complete. Waiting \u001b[39m\u001b[38;5;132;01m{\u001b[39;00mcheck_interval\u001b[38;5;132;01m}\u001b[39;00m\u001b[38;5;124m seconds...\u001b[39m\u001b[38;5;130;01m\\n\u001b[39;00m\u001b[38;5;124m\"\u001b[39m)\n\u001b[0;32m---> 45\u001b[0m \u001b[43mtime\u001b[49m\u001b[38;5;241m.\u001b[39msleep(check_interval)\n",
      "\u001b[0;31mNameError\u001b[0m: name 'time' is not defined"
     ]
    }
   ],
   "source": [
    "# Run it:\n",
    "await monitor_random_users(user_pool, check_interval=15, sample_size=5)"
   ]
  }
 ],
 "metadata": {
  "kernelspec": {
   "display_name": "jupyter_env",
   "language": "python",
   "name": "jupyter_env"
  },
  "language_info": {
   "codemirror_mode": {
    "name": "ipython",
    "version": 3
   },
   "file_extension": ".py",
   "mimetype": "text/x-python",
   "name": "python",
   "nbconvert_exporter": "python",
   "pygments_lexer": "ipython3",
   "version": "3.12.8"
  }
 },
 "nbformat": 4,
 "nbformat_minor": 5
}
